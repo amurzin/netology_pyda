{
 "cells": [
  {
   "cell_type": "markdown",
   "metadata": {},
   "source": [
    "**Задание 1**. Даны 2 строки: *long_phrase* и *short_phrase*. \n",
    "Напишите код, который проверяет действительно ли длинная фраза *long_phrase* длиннее короткой *short_phrase*. И выводит *True* или *False* в зависимости от результата сравнения."
   ]
  },
  {
   "cell_type": "code",
   "execution_count": 1,
   "metadata": {
    "collapsed": true
   },
   "outputs": [],
   "source": [
    "long_phrase = 'Насколько проще было бы писать программы, если бы не заказчики'\n",
    "short_phrase = '640Кб должно хватить для любых задач. Билл Гейтс (по легенде)'"
   ]
  },
  {
   "cell_type": "code",
   "execution_count": 2,
   "metadata": {},
   "outputs": [
    {
     "data": {
      "text/plain": [
       "True"
      ]
     },
     "execution_count": 2,
     "metadata": {},
     "output_type": "execute_result"
    }
   ],
   "source": [
    "len(long_phrase) > len(short_phrase)"
   ]
  },
  {
   "cell_type": "markdown",
   "metadata": {},
   "source": [
    "**Задание 2**. Дано значение объема файла в байтах. Напишите перевод этого значения в мегабайты в формате: \"*Объем файла равен 213.68Mb*\""
   ]
  },
  {
   "cell_type": "code",
   "execution_count": 4,
   "metadata": {},
   "outputs": [
    {
     "name": "stdout",
     "output_type": "stream",
     "text": [
      "Объем файла равен 1372.92Mb\n"
     ]
    }
   ],
   "source": [
    "biteSize = 1439614512\n",
    "mBiteSise = biteSize / 1048576\n",
    "print ('Объем файла равен '+str(round(mBiteSise,2))+'Mb')"
   ]
  },
  {
   "cell_type": "markdown",
   "metadata": {},
   "source": [
    "**Задание 3**. Разработать приложение для определения знака зодиака по дате рождения. Пример:\n",
    "\n",
    "Введите месяц: март\n",
    "\n",
    "Введите число: 6\n",
    "\n",
    "Вывод:\n",
    "Рыбы"
   ]
  },
  {
   "cell_type": "code",
   "execution_count": 33,
   "metadata": {},
   "outputs": [
    {
     "name": "stdout",
     "output_type": "stream",
     "text": [
      "Введите месяц:апрель\n",
      "Введите число:30\n",
      "телец\n"
     ]
    }
   ],
   "source": [
    "month = input ('Введите месяц:')\n",
    "day = int(input ('Введите число:'))\n",
    " \n",
    "if (month == 'январь' and 1 <= day <= 19) or (month == 'декабрь' and 31 >= day >= 22):\n",
    "    print('козерог')\n",
    "elif (month == 'февраль' and 1 <= day <= 18) or (month == 'январь' and 31 >= day >= 20):\n",
    "    print('водолей')\n",
    "elif (month =='март' and 1 <= day <= 20) or (month == 'февраль' and 28 >= day >= 20):\n",
    "    print('рыбы')\n",
    "elif (month == 'апрель' and 1 <= day <= 21) or (month == 'март' and 31 >= day >= 21):\n",
    "    print('овен')\n",
    "elif (month == 'май' and 1 <= day <= 20) or (month == 'апрель' and 30 >= day >= 22):\n",
    "    print('телец')\n",
    "elif (month == 'июнь' and 1 <= day <= 20) or (month == 'май' and 31 >= day >= 21):\n",
    "    print('близнецы')\n",
    "elif (month == 'июль' and 1 <= day <= 22) or (month == 'июнь' and 30 >= day >= 21):\n",
    "    print('рак')\n",
    "elif (month == 'август' and 1 <= day <= 22) or (month == 'июль' and 31 >= day >= 23):\n",
    "    print('лев')\n",
    "elif (month == 'сентябрь' and 1 <= day <= 22) or (month == 'август' and 31 >= day >= 23):\n",
    "    print('дева')\n",
    "elif (month == 'октябрь' and 1 <= day <= 22) or (month == 'сентябрь' and 30 >= day >= 23):\n",
    "    print('весы')\n",
    "elif (month == 'ноябрь' and 1 <= day <= 21) or (month == 'октябрь' and 31 >= day >= 23):\n",
    "    print('скорпион')\n",
    "elif (month == 'декабрь' and 1 <= day <= 21) or (month == 'ноябрь' and 30 >= day >= 22):\n",
    "    print('стрелец')\n",
    "else:\n",
    "    print('неправильный ввод')"
   ]
  },
  {
   "cell_type": "markdown",
   "metadata": {},
   "source": [
    "**Задание 4**. Нужно разработать приложение для финансового планирования.\n",
    "Приложение учитывает сколько уходит на ипотеку, \"на жизнь\" и сколько нужно отложить на пенсию.\n",
    "Пользователь вводит:\n",
    "- заработанную плату в месяц.\n",
    "- сколько процентов от ЗП уходит на ипотеку.\n",
    "- сколько процентов от ЗП уходит \"на жизнь\".\n",
    "- сколько раз приходит премия в год.\n",
    "\n",
    "Остальная часть заработанной платы откладывается на пенсию.\n",
    "\n",
    "Также пользователю приходит премия в размере зарплаты, от которой половина уходит на отпуск, а вторая половина откладывается.\n",
    "\n",
    "Программа должна учитывать сколько премий было в год.\n",
    "\n",
    "Нужно вывести сколько денег тратит пользователь на ипотеку и сколько он накопит за год.\n",
    "\n",
    "Пример:\n",
    "\n",
    "Введите заработанную плату в месяц: 100000\n",
    "\n",
    "Введите сколько процентов уходит на ипотеку: 30\n",
    "\n",
    "Введите сколько процентов уходит на жизнь: 50\n",
    "\n",
    "Введите количество премий за год: 2\n",
    "\n",
    "Вывод:\n",
    "На ипотеку было потрачено: 360000 рублей\n",
    "Было накоплено: 340000 рублей"
   ]
  },
  {
   "cell_type": "code",
   "execution_count": 36,
   "metadata": {},
   "outputs": [
    {
     "name": "stdout",
     "output_type": "stream",
     "text": [
      "Введите заработанную плату в месяц:100000\n",
      "Введите сколько процентов уходит на ипотеку:30\n",
      "Введите сколько процентов уходит на жизнь:50\n",
      "Введите количество премий за год:2\n",
      "Вывод: На ипотеку было потрачено: 360000.0 рублей Было накоплено: 340000.0 рублей\n"
     ]
    }
   ],
   "source": [
    "salaryMonth = float(input ('Введите заработанную плату в месяц:'))\n",
    "mortgageMonth = float(input ('Введите сколько процентов уходит на ипотеку:'))/100\n",
    "lifeExpPerc = float(input ('Введите сколько процентов уходит на жизнь:'))/100\n",
    "bonusNumAnn = int(input ('Введите количество премий за год:'))\n",
    "\n",
    "mortgageAnn = salaryMonth*mortgageMonth*12\n",
    "savingsAnn = salaryMonth*12 + salaryMonth*bonusNumAnn/2 - salaryMonth*12*lifeExpPerc - salaryMonth*12*mortgageMonth\n",
    "\n",
    "print ('Вывод: На ипотеку было потрачено: '+ str(mortgageAnn) +' рублей Было накоплено: '+ str(savingsAnn) +' рублей')"
   ]
  },
  {
   "cell_type": "code",
   "execution_count": null,
   "metadata": {
    "collapsed": true
   },
   "outputs": [],
   "source": []
  }
 ],
 "metadata": {
  "anaconda-cloud": {},
  "kernelspec": {
   "display_name": "Python [default]",
   "language": "python",
   "name": "python3"
  },
  "language_info": {
   "codemirror_mode": {
    "name": "ipython",
    "version": 3
   },
   "file_extension": ".py",
   "mimetype": "text/x-python",
   "name": "python",
   "nbconvert_exporter": "python",
   "pygments_lexer": "ipython3",
   "version": "3.5.4"
  }
 },
 "nbformat": 4,
 "nbformat_minor": 2
}
